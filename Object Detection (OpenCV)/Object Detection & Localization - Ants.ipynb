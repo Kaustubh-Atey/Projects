{
 "cells": [
  {
   "cell_type": "markdown",
   "metadata": {},
   "source": [
    "## Import the required libraries"
   ]
  },
  {
   "cell_type": "code",
   "execution_count": 2,
   "metadata": {},
   "outputs": [],
   "source": [
    "import cv2\n",
    "import numpy as np\n",
    "from scipy.spatial import distance"
   ]
  },
  {
   "cell_type": "markdown",
   "metadata": {},
   "source": [
    "## Create object for Background Subtraction and Kernels for erode & dilate"
   ]
  },
  {
   "cell_type": "code",
   "execution_count": 3,
   "metadata": {},
   "outputs": [],
   "source": [
    "fg_bg = cv2.createBackgroundSubtractorMOG2()\n",
    "kernel_erode = np.ones((2,2), np.uint8)\n",
    "kernel_dilate = np.ones((4,4), np.uint8)"
   ]
  },
  {
   "cell_type": "markdown",
   "metadata": {},
   "source": [
    "## Processing Steps"
   ]
  },
  {
   "cell_type": "code",
   "execution_count": 89,
   "metadata": {},
   "outputs": [],
   "source": [
    "cap = cv2.VideoCapture('Ant Video.mp4')\n",
    "\n",
    "while (cap.isOpened()):\n",
    "    ret, colour_frame = cap.read()\n",
    "    \n",
    "    if not ret:\n",
    "        break\n",
    "    \n",
    "    row, col, chn = colour_frame.shape\n",
    "    \n",
    "    gray = cv2.cvtColor(colour_frame, cv2.COLOR_BGR2GRAY)\n",
    "    frame = fg_bg.apply(gray)\n",
    "    erosion = cv2.erode(frame, kernel_erode, iterations = 2)\n",
    "    dilation = cv2.dilate(erosion, kernel_dilate, iterations = 4)\n",
    "    \n",
    "    ret, frame = cv2.threshold(dilation, 127, 255, 0)\n",
    "    \n",
    "    image, contours, hierarchy = cv2.findContours(frame, cv2.RETR_TREE, cv2.CHAIN_APPROX_SIMPLE)\n",
    "    \n",
    "    for c in contours:\n",
    "        M = cv2.moments(c)\n",
    "        cX = int(M['m10'] / M['m00'])\n",
    "        cY = int(M['m01'] / M['m00']) \n",
    "        \n",
    "        #cv2.drawContours(colour_frame, [c], -1, (255, 0, 255), 2)\n",
    "        colorim = cv2.circle(colour_frame, (cX, cY), 18, (255, 255, 255), 2)\n",
    "        cv2.line(colorim, (int(col/2), int(row/2)), (cX, cY), (0,255,0), 2)\n",
    "        \n",
    "        dist = distance.euclidean((int(col/2), int(row/2)), (cX, cY))\n",
    "        colorim = cv2.putText(colorim, str(dist), (cX - 20, cY - 20), \n",
    "                              cv2.FONT_HERSHEY_SIMPLEX, 0.5, (200, 25, 25),2)\n",
    "        colorim = cv2.putText(colorim, f'{cX}, {cY}', (cX + 30, cY + 5), \n",
    "                              cv2.FONT_HERSHEY_SIMPLEX, 0.5, (255, 0, 155),2)\n",
    "        \n",
    "    cv2.rectangle(colorim, (250,20), (1000, 90), (0,0,0), 2)\n",
    "    colorim=cv2.putText(colorim, 'No. of Ants in the Frame : '+ str(len(contours)), (270, 70),\n",
    "            cv2.FONT_HERSHEY_SIMPLEX, 1.5, (0, 0, 0), 2)\n",
    "    colorim = cv2.circle(colorim, (int(col/2), int(row/2)), 18, (255, 255, 255), -1)\n",
    "    cv2.imshow('Window', colorim)\n",
    "    \n",
    "    if cv2.waitKey(25) & 0xFF == ord('q'):\n",
    "        break\n",
    "        \n",
    "cap.release()\n",
    "cv2.destroyAllWindows()"
   ]
  },
  {
   "cell_type": "code",
   "execution_count": null,
   "metadata": {},
   "outputs": [],
   "source": []
  }
 ],
 "metadata": {
  "kernelspec": {
   "display_name": "Python 3",
   "language": "python",
   "name": "python3"
  },
  "language_info": {
   "codemirror_mode": {
    "name": "ipython",
    "version": 3
   },
   "file_extension": ".py",
   "mimetype": "text/x-python",
   "name": "python",
   "nbconvert_exporter": "python",
   "pygments_lexer": "ipython3",
   "version": "3.7.7"
  }
 },
 "nbformat": 4,
 "nbformat_minor": 4
}
